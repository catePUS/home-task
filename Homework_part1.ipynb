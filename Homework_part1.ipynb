{
 "cells": [
  {
   "cell_type": "code",
   "execution_count": 2,
   "metadata": {},
   "outputs": [
    {
     "name": "stdout",
     "output_type": "stream",
     "text": [
      "t\n"
     ]
    }
   ],
   "source": [
    "word = 'testest'\n",
    "if len(word) % 2 == 1:\n",
    "    index = len(word)//2\n",
    "    print(word[index])\n",
    "else:\n",
    "    index2 = len(word)//2\n",
    "    index1 = index2 - 1\n",
    "    print(word[index1:index2+1])"
   ]
  },
  {
   "cell_type": "code",
   "execution_count": 13,
   "metadata": {},
   "outputs": [
    {
     "name": "stdout",
     "output_type": "stream",
     "text": [
      "Введите число:\n",
      "0\n",
      "Результат:\n",
      "0\n"
     ]
    }
   ],
   "source": [
    "sum_digit = 0\n",
    "digit = int(input('Введите число:\\n'))\n",
    "sum_digit += digit \n",
    "while digit > 0:\n",
    "    digit = int(input('Введите число:\\n'))\n",
    "    sum_digit += digit\n",
    "    \n",
    "print(f'Результат:\\n{sum_digit}')"
   ]
  },
  {
   "cell_type": "code",
   "execution_count": 45,
   "metadata": {},
   "outputs": [
    {
     "name": "stdout",
     "output_type": "stream",
     "text": [
      "Результат:\n",
      "\n",
      "Внимание, кто-то может остаться без пары!\n"
     ]
    }
   ],
   "source": [
    "boys = ['Peter', 'Alex', 'John', 'Arthur', 'Richard']\n",
    "girls = ['Kate', 'Liza', 'Kira', 'Emma', 'Trisha']\n",
    "\n",
    "print('Результат:\\n')\n",
    "if len(boys) == len(girls): \n",
    "    boys = sorted(boys)\n",
    "    girls = sorted(girls)\n",
    "\n",
    "    print('Идеальные пары:')\n",
    "    pairs = list(zip(boys, girls))\n",
    "    for pair in pairs:\n",
    "        print(f'{pair[0]} и {pair[1]}')\n",
    "else:\n",
    "    print('Внимание, кто-то может остаться без пары!')"
   ]
  },
  {
   "cell_type": "code",
   "execution_count": 25,
   "metadata": {},
   "outputs": [
    {
     "name": "stdout",
     "output_type": "stream",
     "text": [
      "Результат:\n",
      "\n",
      "Средняя температура в странах:\n",
      "Thailand - 23.9 C\n",
      "Germany - 13.8 C\n",
      "Russia - 3.7 C\n",
      "Poland - 12.0 C\n"
     ]
    }
   ],
   "source": [
    "countries_temperature = [\n",
    "['Thailand', [75.2, 77, 78.8, 73.4, 68, 75.2, 77]],\n",
    "['Germany', [57.2, 55.4, 59, 59, 53.6]],\n",
    "['Russia', [35.6, 37.4, 39.2, 41, 42.8, 39.2, 35.6]],\n",
    "['Poland', [50, 50, 53.6, 57.2, 55.4, 55.4]]\n",
    "]\n",
    "result = []\n",
    "for item in countries_temperature: \n",
    "    country, temperatures = item\n",
    "    average_temperature = round((sum(temperatures)/len(temperatures) - 32) * 5/9, 1)\n",
    "    result.append([country, average_temperature])\n",
    "    \n",
    "print('Результат:\\n')\n",
    "print('Средняя температура в странах:')\n",
    "for item in result:\n",
    "    country, average_temperature = item\n",
    "    print(f'{country} - {average_temperature} C')"
   ]
  },
  {
   "cell_type": "code",
   "execution_count": 35,
   "metadata": {},
   "outputs": [
    {
     "name": "stdout",
     "output_type": "stream",
     "text": [
      "Среднее количество просмотров на уникального пользователя: 145.33\n"
     ]
    }
   ],
   "source": [
    "\"\"\"\n",
    "stream = [\n",
    "'2018-01-01,user1,3',\n",
    "'2018-01-07,user1,4',\n",
    "'2018-03-29,user1,1',\n",
    "'2018-04-04,user1,13',\n",
    "'2018-01-05,user2,7',\n",
    "'2018-06-14,user3,4',\n",
    "'2018-07-02,user3,10',\n",
    "'2018-03-21,user4,19',\n",
    "'2018-03-22,user4,4',\n",
    "'2018-04-22,user4,8',\n",
    "'2018-05-03,user4,9',\n",
    "'2018-05-11,user4,11',\n",
    "]\n",
    "\"\"\"\n",
    "\n",
    "stream = [\n",
    "'2018-01-01,user100,150',\n",
    "'2018-01-07,user99,205',\n",
    "'2018-03-29,user1001,81'\n",
    "]\n",
    "\n",
    "users = []\n",
    "sum_views = 0\n",
    "for data in stream:\n",
    "    date, user, views = data.split(',')\n",
    "    sum_views += int(views)\n",
    "    if user not in users:\n",
    "        users.append(user)\n",
    "average_views = round(sum_views / len(users), 2)\n",
    "print(f'Среднее количество просмотров на уникального пользователя: {average_views}')"
   ]
  },
  {
   "cell_type": "code",
   "execution_count": 40,
   "metadata": {},
   "outputs": [
    {
     "name": "stdout",
     "output_type": "stream",
     "text": [
      "Введите числа:\n",
      "3 3 3 44 4 4 5 6 7 3 2 2 1 0 3333 4 5\n",
      "Результат:\n",
      "3 4 5 2\n"
     ]
    }
   ],
   "source": [
    "digits = input('Введите числа:\\n').split(' ')\n",
    "unique_numbers = []\n",
    "dublicat_array = []\n",
    "for digit in digits:\n",
    "    if digit not in unique_numbers:\n",
    "        unique_numbers.append(digit)\n",
    "        if digits.count(digit) > 1:\n",
    "            dublicat_array.append(digit)\n",
    "dublicat_array_str = ' '.join(dublicat_array)\n",
    "print(f'Результат:\\n{dublicat_array_str}')\n"
   ]
  },
  {
   "cell_type": "code",
   "execution_count": null,
   "metadata": {},
   "outputs": [],
   "source": []
  }
 ],
 "metadata": {
  "kernelspec": {
   "display_name": "Python 3",
   "language": "python",
   "name": "python3"
  },
  "language_info": {
   "codemirror_mode": {
    "name": "ipython",
    "version": 3
   },
   "file_extension": ".py",
   "mimetype": "text/x-python",
   "name": "python",
   "nbconvert_exporter": "python",
   "pygments_lexer": "ipython3",
   "version": "3.8.5"
  }
 },
 "nbformat": 4,
 "nbformat_minor": 4
}
