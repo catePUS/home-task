{
 "cells": [
  {
   "cell_type": "code",
   "execution_count": 1,
   "metadata": {},
   "outputs": [
    {
     "name": "stdout",
     "output_type": "stream",
     "text": [
      "Фраза 1 длиннее фразы 2\n",
      "Фраза 2 длиннее фразы 1\n",
      "Фразы равной длины\n"
     ]
    }
   ],
   "source": [
    "phrase_1 = 'Насколько проще было бы писать программы, если бы не заказчики'\n",
    "phrase_2 = '640Кб должно хватить для любых задач. Билл Гейтс (по легенде)'\n",
    "if len (phrase_1) > len (phrase_2):\n",
    "    print ('Фраза 1 длиннее фразы 2')\n",
    "phrase_1 = '640Кб должно хватить для любых задач. Билл Гейтс (по легенде)'\n",
    "phrase_2 = 'Насколько проще было бы писать программы, если бы (по легенде)'\n",
    "if len (phrase_2) > len (phrase_1) :\n",
    "    print ( 'Фраза 2 длиннее фразы 1' )\n",
    "phrase_1 = 'Насколько проще было бы писать программы, если бы не заказчики'\n",
    "phrase_2 = 'Насколько проще было бы писать программы, если бы не заказчики'\n",
    "if len (phrase_1) == len (phrase_2) :\n",
    "    print ( 'Фразы равной длины' )"
   ]
  },
  {
   "cell_type": "code",
   "execution_count": 18,
   "metadata": {},
   "outputs": [
    {
     "name": "stdout",
     "output_type": "stream",
     "text": [
      "Високосный год\n"
     ]
    }
   ],
   "source": [
    "year = 2000\n",
    "if (year % 4 != 0)  or (year % 100 == 0 and year % 400 != 0) :\n",
    "    print ('Обычный год')\n",
    "else:\n",
    "    print ('Високосный год')"
   ]
  },
  {
   "cell_type": "code",
   "execution_count": 5,
   "metadata": {},
   "outputs": [
    {
     "name": "stdout",
     "output_type": "stream",
     "text": [
      "Введите месяц рожденияСентябрь\n",
      "Введите день рождения19\n",
      "Дева\n"
     ]
    }
   ],
   "source": [
    "month_birth = input ('Введите месяц рождения')\n",
    "day_birth = int(input ('Введите день рождения'))\n",
    "if (month_birth == 'Январь' and day_birth >= 1 and day_birth <= 19) or (month_birth == 'Декабрь' and day_birth >= 22 and day_birth <= 31) :\n",
    "    print ('Козерог')\n",
    "elif (month_birth == 'Январь' and day_birth >= 20 and day_birth <= 31) or (month_birth == 'Февраль' and day_birth >= 1 and day_birth <= 18) :\n",
    "    print ('Водолей')\n",
    "elif (month_birth == 'Февраль' and day_birth >= 19 and day_birth <= 29) or (month_birth == 'Март' and day_birth >= 1 and day_birth <= 20) :\n",
    "    print ('Рыбы')\n",
    "elif (month_birth == 'Март' and day_birth >= 21 and day_birth <= 31) or (month_birth == 'Апрель' and day_birth >= 1 and day_birth <= 19) :\n",
    "    print ('Овен')\n",
    "elif (month_birth == 'Апрель' and day_birth >= 20 and day_birth <= 30) or (month_birth == 'Май' and day_birth >= 1 and day_birth <= 20) :\n",
    "    print ('Телец')\n",
    "elif (month_birth == 'Май' and day_birth >= 21 and day_birth <= 31) or (month_birth == 'Июнь' and day_birth >= 1 and day_birth <= 20) :\n",
    "    print ('Близнецы')\n",
    "elif (month_birth == 'Июнь' and day_birth >= 21 and day_birth <= 30) or (month_birth == 'Июль' and day_birth >= 1 and day_birth <= 22) :\n",
    "    print ('Рак')\n",
    "elif (month_birth == 'Июль' and day_birth >= 23 and day_birth <= 31) or (month_birth == 'Август' and day_birth >= 1 and day_birth <= 22) :\n",
    "    print ('Лев')\n",
    "elif (month_birth == 'Август' and day_birth >= 23 and day_birth <= 31) or (month_birth == 'Сентябрь' and day_birth >= 1 and day_birth <= 22) :\n",
    "    print ('Дева')\n",
    "elif (month_birth == 'Сентябрь' and day_birth >= 22 and day_birth <= 30) or (month_birth == 'Октябрь' and day_birth >= 1 and day_birth <= 22) :\n",
    "    print ('Весы')\n",
    "elif (month_birth == 'Октябрь' and day_birth >= 23 and day_birth <= 31) or (month_birth == 'Ноябрь' and day_birth >= 1 and day_birth <= 21) :\n",
    "    print ('Скорпион')  \n",
    "elif (month_birth == 'Ноябрь' and day_birth >= 22 and day_birth <= 30) or (month_birth == 'Декабрь' and day_birth >= 1 and day_birth <= 21) :\n",
    "    print ('Стрелец') \n",
    "    "
   ]
  },
  {
   "cell_type": "code",
   "execution_count": 28,
   "metadata": {},
   "outputs": [
    {
     "name": "stdout",
     "output_type": "stream",
     "text": [
      "Введите ширину5\n",
      "Введите длину20\n",
      "Введите высоту60\n",
      "Box 2\n"
     ]
    }
   ],
   "source": [
    "width_prodact = int(input ('Введите ширину'))\n",
    "length_prodact = int(input ('Введите длину'))\n",
    "height_prodact = int(input ('Введите высоту'))\n",
    "if length_prodact > 200 :\n",
    "    print ('Packing for sky')\n",
    "elif width_prodact < 15 and length_prodact < 15 and height_prodact < 15 :\n",
    "    print ('Box 1') \n",
    "elif width_prodact > 15 and width_prodact < 50  or length_prodact > 15 and length_prodact < 50 or height_prodact > 15 and height_prodact < 50 :\n",
    "    print ('Box 2') \n",
    "else:\n",
    "    print ('Standart box 3')\n"
   ]
  },
  {
   "cell_type": "code",
   "execution_count": 44,
   "metadata": {},
   "outputs": [
    {
     "name": "stdout",
     "output_type": "stream",
     "text": [
      "Введите номер билета123456\n",
      "Несчастливый билет\n"
     ]
    }
   ],
   "source": [
    "ticket_number = int(input ('Введите номер билета'))\n",
    "f = ticket_number % 10\n",
    "e = (ticket_number % 100-f)/10\n",
    "d = (ticket_number % 1000-ticket_number % 100)/100\n",
    "c = (ticket_number % 10000-ticket_number % 1000)/1000\n",
    "b = (ticket_number % 100000-ticket_number % 10000)/10000\n",
    "a = (ticket_number % 1000000-ticket_number % 100000)/100000\n",
    "if (a+b+c) == (f+e+d) :\n",
    "    print ('Счастливый билет')\n",
    "else:\n",
    "     print ('Несчастливый билет')"
   ]
  },
  {
   "cell_type": "code",
   "execution_count": 74,
   "metadata": {},
   "outputs": [
    {
     "name": "stdout",
     "output_type": "stream",
     "text": [
      "Введите тип фигурывлвалаад\n",
      "Данные неверные\n"
     ]
    }
   ],
   "source": [
    "type_shape = input ('Введите тип фигуры')\n",
    "if type_shape == 'Круг' :\n",
    "    radius = int(input ('Введите радиус'))\n",
    "    s_circle = radius**2*3.14\n",
    "    print ('Площадь круга:', s_circle)\n",
    "elif type_shape == 'Треугольник' :\n",
    "    length_sideA = int(input ('Введите длину A'))\n",
    "    length_sideB = int(input ('Введите длину B'))\n",
    "    length_sideC = int(input ('Введите длину C'))\n",
    "    p_triangle = (length_sideA + length_sideB + length_sideC)/2\n",
    "    s_triangle = (p_triangle * (p_triangle - length_sideA) * (p_triangle - length_sideB) * (p_triangle-length_sideC)) ** 0.5\n",
    "    print ('Площадь треугольника:', s_triangle)  \n",
    "elif type_shape == 'Прямоугольник' :\n",
    "    width_side = int(input ('Введите ширину'))\n",
    "    length_side = int(input ('Введите длину'))\n",
    "    s_rectangle =  width_side * length_side\n",
    "    print ('Площадь прямоугольника:', s_rectangle)\n",
    "else:\n",
    "    print ('Данные неверные')\n"
   ]
  },
  {
   "cell_type": "code",
   "execution_count": null,
   "metadata": {},
   "outputs": [],
   "source": []
  }
 ],
 "metadata": {
  "kernelspec": {
   "display_name": "Python 3",
   "language": "python",
   "name": "python3"
  },
  "language_info": {
   "codemirror_mode": {
    "name": "ipython",
    "version": 3
   },
   "file_extension": ".py",
   "mimetype": "text/x-python",
   "name": "python",
   "nbconvert_exporter": "python",
   "pygments_lexer": "ipython3",
   "version": "3.8.5"
  }
 },
 "nbformat": 4,
 "nbformat_minor": 4
}
